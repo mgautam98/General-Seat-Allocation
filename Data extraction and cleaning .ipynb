{
 "cells": [
  {
   "cell_type": "code",
   "execution_count": 1,
   "metadata": {},
   "outputs": [],
   "source": [
    "import requests\n",
    "import time\n",
    "from bs4 import BeautifulSoup as BS\n",
    "import pandas as pd\n",
    "import matplotlib.pyplot as plt"
   ]
  },
  {
   "cell_type": "code",
   "execution_count": 2,
   "metadata": {},
   "outputs": [],
   "source": [
    "url = \"http://www.myneta.info/LokSabha2019/index.php?action=summary&subAction=candidates_analyzed&sort=candidate#summary\""
   ]
  },
  {
   "cell_type": "code",
   "execution_count": 3,
   "metadata": {},
   "outputs": [],
   "source": [
    "r = requests.get(url)"
   ]
  },
  {
   "cell_type": "code",
   "execution_count": 4,
   "metadata": {},
   "outputs": [],
   "source": [
    "CandidateData = BS(r.text, features=\"html5lib\").find_all('table')[1].find_all('tr')"
   ]
  },
  {
   "cell_type": "code",
   "execution_count": 5,
   "metadata": {},
   "outputs": [],
   "source": [
    "CandidateData = CandidateData[2:]"
   ]
  },
  {
   "cell_type": "code",
   "execution_count": 6,
   "metadata": {},
   "outputs": [],
   "source": [
    "name = []\n",
    "Constituency = []\n",
    "Party = []\n",
    "Cases = []\n",
    "Education = []\n",
    "Assets = []\n",
    "Liabilities = []\n",
    "for ix in range(len(CandidateData)):\n",
    "    newCan = CandidateData[ix].find_all('td')\n",
    "    name.append(newCan[1].text)\n",
    "    Constituency.append(newCan[2].text)\n",
    "    Party.append(newCan[3].text)\n",
    "    Cases.append(int(newCan[4].text))\n",
    "    Education.append(newCan[5].text)\n",
    "    assts = 0\n",
    "    lib = 0\n",
    "    if CandidateData[ix].find_all('td')[6].get_text() != 'Nil':\n",
    "        assts = newCan[6].get_text().split('~')[0].split()[1]\n",
    "    if CandidateData[ix].find_all('td')[7].get_text() != 'Nil':\n",
    "        lib = newCan[7].get_text().split('~')[0].split()[1]\n",
    "    Assets.append(assts)\n",
    "    Liabilities.append(lib)\n"
   ]
  },
  {
   "cell_type": "code",
   "execution_count": 7,
   "metadata": {},
   "outputs": [],
   "source": [
    "Candidates = {\n",
    "    'Name' : name,\n",
    "    'Constituency' : Constituency,\n",
    "    'Party' : Party,\n",
    "    'Cases' : Cases,\n",
    "    'Education' : Education,\n",
    "    'Assets' : Assets,\n",
    "    'Liabilities' : Liabilities\n",
    "}\n",
    "data = pd.DataFrame(Candidates)"
   ]
  },
  {
   "cell_type": "code",
   "execution_count": 8,
   "metadata": {},
   "outputs": [],
   "source": [
    "data.to_csv('CandidateData.csv', index=False)"
   ]
  },
  {
   "cell_type": "code",
   "execution_count": 9,
   "metadata": {},
   "outputs": [
    {
     "data": {
      "text/html": [
       "<div>\n",
       "<style scoped>\n",
       "    .dataframe tbody tr th:only-of-type {\n",
       "        vertical-align: middle;\n",
       "    }\n",
       "\n",
       "    .dataframe tbody tr th {\n",
       "        vertical-align: top;\n",
       "    }\n",
       "\n",
       "    .dataframe thead th {\n",
       "        text-align: right;\n",
       "    }\n",
       "</style>\n",
       "<table border=\"1\" class=\"dataframe\">\n",
       "  <thead>\n",
       "    <tr style=\"text-align: right;\">\n",
       "      <th></th>\n",
       "      <th>Name</th>\n",
       "      <th>Constituency</th>\n",
       "      <th>Party</th>\n",
       "      <th>Cases</th>\n",
       "      <th>Education</th>\n",
       "      <th>Assets</th>\n",
       "      <th>Liabilities</th>\n",
       "    </tr>\n",
       "  </thead>\n",
       "  <tbody>\n",
       "    <tr>\n",
       "      <th>0</th>\n",
       "      <td>Parmar Vijay</td>\n",
       "      <td>RAJKOT</td>\n",
       "      <td>BSP</td>\n",
       "      <td>4</td>\n",
       "      <td>12th Pass</td>\n",
       "      <td>5,35,000</td>\n",
       "      <td>0</td>\n",
       "    </tr>\n",
       "    <tr>\n",
       "      <th>1</th>\n",
       "      <td>A M Ariff</td>\n",
       "      <td>ALAPPUZHA</td>\n",
       "      <td>CPI(M)</td>\n",
       "      <td>2</td>\n",
       "      <td>Graduate Professional</td>\n",
       "      <td>1,52,68,906</td>\n",
       "      <td>22,20,700</td>\n",
       "    </tr>\n",
       "    <tr>\n",
       "      <th>2</th>\n",
       "      <td>A Narayanaswamy</td>\n",
       "      <td>CHITRADURGA</td>\n",
       "      <td>BJP</td>\n",
       "      <td>0</td>\n",
       "      <td>Graduate</td>\n",
       "      <td>9,61,97,642</td>\n",
       "      <td>0</td>\n",
       "    </tr>\n",
       "    <tr>\n",
       "      <th>3</th>\n",
       "      <td>A Natarajan</td>\n",
       "      <td>COIMBATORE</td>\n",
       "      <td>IND</td>\n",
       "      <td>0</td>\n",
       "      <td>5th Pass</td>\n",
       "      <td>7,000</td>\n",
       "      <td>0</td>\n",
       "    </tr>\n",
       "    <tr>\n",
       "      <th>4</th>\n",
       "      <td>A Pradeep Kumar</td>\n",
       "      <td>KOZHIKODE</td>\n",
       "      <td>CPI(M)</td>\n",
       "      <td>1</td>\n",
       "      <td>12th Pass</td>\n",
       "      <td>1,19,15,342</td>\n",
       "      <td>20,79,872</td>\n",
       "    </tr>\n",
       "  </tbody>\n",
       "</table>\n",
       "</div>"
      ],
      "text/plain": [
       "              Name Constituency   Party  Cases              Education  \\\n",
       "0     Parmar Vijay       RAJKOT     BSP      4              12th Pass   \n",
       "1        A M Ariff    ALAPPUZHA  CPI(M)      2  Graduate Professional   \n",
       "2  A Narayanaswamy  CHITRADURGA     BJP      0               Graduate   \n",
       "3      A Natarajan   COIMBATORE     IND      0               5th Pass   \n",
       "4  A Pradeep Kumar    KOZHIKODE  CPI(M)      1              12th Pass   \n",
       "\n",
       "        Assets Liabilities  \n",
       "0     5,35,000           0  \n",
       "1  1,52,68,906   22,20,700  \n",
       "2  9,61,97,642           0  \n",
       "3        7,000           0  \n",
       "4  1,19,15,342   20,79,872  "
      ]
     },
     "execution_count": 9,
     "metadata": {},
     "output_type": "execute_result"
    }
   ],
   "source": [
    "data.head()"
   ]
  },
  {
   "cell_type": "code",
   "execution_count": 12,
   "metadata": {},
   "outputs": [],
   "source": [
    "for ix in Cases:\n",
    "    if Cases[ix] > 0 :\n",
    "        Cases[ix] = 1"
   ]
  },
  {
   "cell_type": "code",
   "execution_count": 13,
   "metadata": {},
   "outputs": [],
   "source": [
    "PartyCan = {\n",
    "    'Party' : Party,\n",
    "    'Cases' : Cases\n",
    "}\n",
    "data = pd.DataFrame(PartyCan)"
   ]
  },
  {
   "cell_type": "code",
   "execution_count": 14,
   "metadata": {},
   "outputs": [
    {
     "data": {
      "text/html": [
       "<div>\n",
       "<style scoped>\n",
       "    .dataframe tbody tr th:only-of-type {\n",
       "        vertical-align: middle;\n",
       "    }\n",
       "\n",
       "    .dataframe tbody tr th {\n",
       "        vertical-align: top;\n",
       "    }\n",
       "\n",
       "    .dataframe thead th {\n",
       "        text-align: right;\n",
       "    }\n",
       "</style>\n",
       "<table border=\"1\" class=\"dataframe\">\n",
       "  <thead>\n",
       "    <tr style=\"text-align: right;\">\n",
       "      <th></th>\n",
       "      <th>Party</th>\n",
       "      <th>Cases</th>\n",
       "    </tr>\n",
       "  </thead>\n",
       "  <tbody>\n",
       "    <tr>\n",
       "      <th>0</th>\n",
       "      <td>BSP</td>\n",
       "      <td>1</td>\n",
       "    </tr>\n",
       "    <tr>\n",
       "      <th>1</th>\n",
       "      <td>CPI(M)</td>\n",
       "      <td>1</td>\n",
       "    </tr>\n",
       "    <tr>\n",
       "      <th>2</th>\n",
       "      <td>BJP</td>\n",
       "      <td>0</td>\n",
       "    </tr>\n",
       "    <tr>\n",
       "      <th>3</th>\n",
       "      <td>IND</td>\n",
       "      <td>0</td>\n",
       "    </tr>\n",
       "    <tr>\n",
       "      <th>4</th>\n",
       "      <td>CPI(M)</td>\n",
       "      <td>1</td>\n",
       "    </tr>\n",
       "  </tbody>\n",
       "</table>\n",
       "</div>"
      ],
      "text/plain": [
       "    Party  Cases\n",
       "0     BSP      1\n",
       "1  CPI(M)      1\n",
       "2     BJP      0\n",
       "3     IND      0\n",
       "4  CPI(M)      1"
      ]
     },
     "execution_count": 14,
     "metadata": {},
     "output_type": "execute_result"
    }
   ],
   "source": [
    "data.head()"
   ]
  },
  {
   "cell_type": "code",
   "execution_count": 15,
   "metadata": {},
   "outputs": [],
   "source": [
    "data.to_csv('PartyAndCriminalCandidates.csv', index=False)"
   ]
  },
  {
   "cell_type": "code",
   "execution_count": null,
   "metadata": {},
   "outputs": [],
   "source": []
  }
 ],
 "metadata": {
  "kernelspec": {
   "display_name": "Python 3",
   "language": "python",
   "name": "python3"
  },
  "language_info": {
   "codemirror_mode": {
    "name": "ipython",
    "version": 3
   },
   "file_extension": ".py",
   "mimetype": "text/x-python",
   "name": "python",
   "nbconvert_exporter": "python",
   "pygments_lexer": "ipython3",
   "version": "3.6.6"
  }
 },
 "nbformat": 4,
 "nbformat_minor": 2
}
